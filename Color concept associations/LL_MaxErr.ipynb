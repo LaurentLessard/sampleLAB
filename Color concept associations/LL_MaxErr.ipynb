{
 "cells": [
  {
   "cell_type": "markdown",
   "metadata": {},
   "source": [
    "## Code for selecting fruits and colors"
   ]
  },
  {
   "cell_type": "code",
   "execution_count": 2,
   "metadata": {},
   "outputs": [],
   "source": [
    "using DelimitedFiles"
   ]
  },
  {
   "cell_type": "code",
   "execution_count": 13,
   "metadata": {},
   "outputs": [
    {
     "data": {
      "text/plain": [
       "12×58 Array{Any,2}:\n",
       " 0.111435   0.0762037  0.107685   …  0.197176  0.599815   0.854213 \n",
       " 0.0923148  0.067963   0.129815      0.511296  0.112269   0.115139 \n",
       " 0.121667   0.106204   0.128981      0.446574  0.324815   0.31588  \n",
       " 0.092037   0.0944907  0.101944      0.266759  0.449444   0.725741 \n",
       " 0.0917593  0.0835648  0.127222      0.125278  0.323194   0.454167 \n",
       " 0.100787   0.0822685  0.0949074  …  0.25625   0.108287   0.108565 \n",
       " 0.126528   0.117685   0.106852      0.130694  0.0935185  0.110139 \n",
       " 0.512222   0.808056   0.596435      0.114398  0.0967593  0.0726389\n",
       " 0.111944   0.116806   0.101296      0.529815  0.15037    0.11162  \n",
       " 0.0971296  0.0783796  0.0805556     0.12125   0.424444   0.823194 \n",
       " 0.108009   0.109907   0.106065   …  0.773843  0.251528   0.15963  \n",
       " 0.12088    0.0751852  0.0840278     0.253102  0.894444   0.464954 "
      ]
     },
     "execution_count": 13,
     "metadata": {},
     "output_type": "execute_result"
    }
   ],
   "source": [
    "Fruits = [\"Mango\",\"Watermelon\",\"Honeydew\",\"Cantaloupe\",\"Grapefruit\",\"Strawberry\",\"Raspberry\",\"Blueberry\",\"Avocado\",\"Orange\",\"Lime\",\"Lemon\"];\n",
    "\n",
    "X = readdlm(\"data_clean.csv\",',');\n",
    "r = X[2:end,2:end]\n",
    "a,b = size(r)\n",
    "fruits,colors = 1:a, 1:b\n",
    "r"
   ]
  },
  {
   "cell_type": "code",
   "execution_count": 8,
   "metadata": {},
   "outputs": [
    {
     "data": {
      "text/plain": [
       "2×8 Array{Float64,2}:\n",
       " 1.0  0.7  0.6  0.3  0.2  0.2  0.2  0.2\n",
       " 0.2  0.2  0.2  0.2  0.2  0.5  0.7  1.0"
      ]
     },
     "execution_count": 8,
     "metadata": {},
     "output_type": "execute_result"
    }
   ],
   "source": [
    "# we choose 2 fruits and 8 colors. We want to get as close as possible\n",
    "# to these pairwise ratings after we've chosen our fruits and colors:\n",
    "\n",
    "d = [ 1.0  0.7  0.6  0.3  0.2  0.2  0.2  0.2\n",
    "      0.2  0.2  0.2  0.2  0.2  0.5  0.7  1.0 ]\n",
    "p,q = size(d)\n",
    "frsel,colsel = 1:p,1:q\n",
    "d"
   ]
  },
  {
   "cell_type": "code",
   "execution_count": 7,
   "metadata": {},
   "outputs": [],
   "source": [
    "using JuMP, Gurobi"
   ]
  },
  {
   "cell_type": "code",
   "execution_count": 10,
   "metadata": {},
   "outputs": [
    {
     "name": "stdout",
     "output_type": "stream",
     "text": [
      "1\n",
      "Academic license - for non-commercial use only\n",
      "Academic license - for non-commercial use only\n",
      "Academic license - for non-commercial use only\n",
      "Academic license - for non-commercial use only\n",
      "Academic license - for non-commercial use only\n",
      "Academic license - for non-commercial use only\n",
      "Academic license - for non-commercial use only\n",
      "Academic license - for non-commercial use only\n",
      "Academic license - for non-commercial use only\n",
      "Academic license - for non-commercial use only\n",
      "Academic license - for non-commercial use only\n",
      "2\n",
      "Academic license - for non-commercial use only\n",
      "Academic license - for non-commercial use only\n",
      "Academic license - for non-commercial use only\n",
      "Academic license - for non-commercial use only\n",
      "Academic license - for non-commercial use only\n",
      "Academic license - for non-commercial use only\n",
      "Academic license - for non-commercial use only\n",
      "Academic license - for non-commercial use only\n",
      "Academic license - for non-commercial use only\n",
      "Academic license - for non-commercial use only\n",
      "3\n",
      "Academic license - for non-commercial use only\n",
      "Academic license - for non-commercial use only\n",
      "Academic license - for non-commercial use only\n",
      "Academic license - for non-commercial use only\n",
      "Academic license - for non-commercial use only\n",
      "Academic license - for non-commercial use only\n",
      "Academic license - for non-commercial use only\n",
      "Academic license - for non-commercial use only\n",
      "Academic license - for non-commercial use only\n",
      "4\n",
      "Academic license - for non-commercial use only\n",
      "Academic license - for non-commercial use only\n",
      "Academic license - for non-commercial use only\n",
      "Academic license - for non-commercial use only\n",
      "Academic license - for non-commercial use only\n",
      "Academic license - for non-commercial use only\n",
      "Academic license - for non-commercial use only\n",
      "Academic license - for non-commercial use only\n",
      "5\n",
      "Academic license - for non-commercial use only\n",
      "Academic license - for non-commercial use only\n",
      "Academic license - for non-commercial use only\n",
      "Academic license - for non-commercial use only\n",
      "Academic license - for non-commercial use only\n",
      "Academic license - for non-commercial use only\n",
      "Academic license - for non-commercial use only\n",
      "6\n",
      "Academic license - for non-commercial use only\n",
      "Academic license - for non-commercial use only\n",
      "Academic license - for non-commercial use only\n",
      "Academic license - for non-commercial use only\n",
      "Academic license - for non-commercial use only\n",
      "Academic license - for non-commercial use only\n",
      "7\n",
      "Academic license - for non-commercial use only\n",
      "Academic license - for non-commercial use only\n",
      "Academic license - for non-commercial use only\n",
      "Academic license - for non-commercial use only\n",
      "Academic license - for non-commercial use only\n",
      "8\n",
      "Academic license - for non-commercial use only\n",
      "Academic license - for non-commercial use only\n",
      "Academic license - for non-commercial use only\n",
      "Academic license - for non-commercial use only\n",
      "9\n",
      "Academic license - for non-commercial use only\n",
      "Academic license - for non-commercial use only\n",
      "Academic license - for non-commercial use only\n",
      "10\n",
      "Academic license - for non-commercial use only\n",
      "Academic license - for non-commercial use only\n",
      "11\n",
      "Academic license - for non-commercial use only\n"
     ]
    }
   ],
   "source": [
    "uvals = []\n",
    "tvals = []\n",
    "\n",
    "# iterate through all possible pairs of fruits\n",
    "for u1 = 1:a-1\n",
    "    println(u1)\n",
    "    for u2 = u1+1:a\n",
    "\n",
    "        # for each pair of fruits (u1,u2), figure out the best possible colors\n",
    "        m = Model(solver=GurobiSolver(OutputFlag=0))\n",
    "        \n",
    "        # U is the binary matrix that tells us which fruits are selected\n",
    "        # (this is fiexed because we're looping over all possible pairs of fruits)\n",
    "        U = zeros(12,2)\n",
    "        U[u1,1] = 1\n",
    "        U[u2,2] = 1\n",
    "\n",
    "        # V is the binary matrix that tells us which colors we pick for which slot\n",
    "        # V is 58×8 because we have 58 colors and 8 slots to assign colors to.\n",
    "        @variable(m, V[colors,colsel], Bin)\n",
    "        \n",
    "        # t is the largest mismatch between the adjacent entries of d (see below for explanation)\n",
    "        @variable(m, t)\n",
    "        \n",
    "        # each slot must have exactly one color matched to it\n",
    "        # and each color can be matched to at most one slot\n",
    "        @constraint(m, c3[ℓ in colsel], sum( V[colors,ℓ] ) == 1 )\n",
    "        @constraint(m, c4[j in colors], sum( V[j,colsel] ) <= 1 )\n",
    "\n",
    "        # SOLUTION;\n",
    "        # rather than trying to match each rating to d exactly, instead the \"actual\" d we obtain will look something like\n",
    "        # [d1 d2 d3 d4 d5 d6 d7 d8] (rating for each fruit and each of the 8 colors)\n",
    "        # let d1-d2 > t, d2-d3 > t, d3-d4 > t, and for the rest of them: d4-d5 > t, d4-d6 > t, d4-d7 > t, and d4-d8 > t\n",
    "        # then we try to maximize t. This has the effect of making sure that [d1, d2, d3, d4, max(d5,d6,d7,d8)] are\n",
    "        # as spread out as possible.\n",
    "        for ℓ = 1:3\n",
    "            @constraint(m, sum(r[i,j]*U[i,1]*V[j,ℓ] for i in fruits, j in colors) - sum(r[i,j]*U[i,1]*V[j,ℓ+1] for i in fruits, j in colors) >= t )\n",
    "        end\n",
    "        for ℓ = 5:8\n",
    "            @constraint(m, sum(r[i,j]*U[i,1]*V[j,4] for i in fruits, j in colors) - sum(r[i,j]*U[i,1]*V[j,ℓ] for i in fruits, j in colors) >= t )\n",
    "        end\n",
    "\n",
    "        for ℓ = 6:8\n",
    "            @constraint(m, sum(r[i,j]*U[i,2]*V[j,ℓ] for i in fruits, j in colors) - sum(r[i,j]*U[i,2]*V[j,ℓ-1] for i in fruits, j in colors) >= t )\n",
    "        end\n",
    "        for ℓ = 1:4\n",
    "            @constraint(m, sum(r[i,j]*U[i,2]*V[j,5] for i in fruits, j in colors) - sum(r[i,j]*U[i,2]*V[j,ℓ] for i in fruits, j in colors) >= t )\n",
    "        end\n",
    "        \n",
    "        # OLD SOLUTION;\n",
    "        # here we tried to ensure that each d[i,j] was matched as closely as possible. This didn't end up working too well\n",
    "        # because it often happened that two adjacent entries, e.g. d[1,2] and d[1,3] would be almost the same.\n",
    "        # the true goal is to make the entries spread out, hence the reason for the method above.\n",
    "\n",
    "        #@constraint(m, c5[k in frsel, ℓ in colsel], d[k,ℓ] - sum( r[i,j]*U[i,k]*V[j,ℓ] for i in fruits, j in colors ) <= t )\n",
    "        #@constraint(m, c6[k in frsel, ℓ in colsel], d[k,ℓ] - sum( r[i,j]*U[i,k]*V[j,ℓ] for i in fruits, j in colors ) >= -t )\n",
    "\n",
    "        #@constraint(m, U[8,:] .== 0)\n",
    "        #@constraint(m, U[12,:] .== 0)\n",
    "\n",
    "        @objective(m, Max, t)\n",
    "        status = solve(m, suppress_warnings=true)\n",
    "        \n",
    "        u = [ U[i,k] for i in fruits, k in frsel ]\n",
    "        v = [ getvalue(V[j,ℓ]) for j in colors, ℓ in colsel ]\n",
    "        \n",
    "        ixs = findall(!iszero,v)\n",
    "        c = [ u[1] for u in ixs ]\n",
    "        \n",
    "        push!(uvals, (u1,u2,c))\n",
    "        push!(tvals, getvalue(t))\n",
    "    end\n",
    "end"
   ]
  },
  {
   "cell_type": "code",
   "execution_count": 14,
   "metadata": {},
   "outputs": [],
   "source": [
    "ix = sortperm(tvals,rev=true);"
   ]
  },
  {
   "cell_type": "code",
   "execution_count": 16,
   "metadata": {},
   "outputs": [
    {
     "name": "stdout",
     "output_type": "stream",
     "text": [
      "0.1632, cols = [12, 11, 1, 5, 49, 40, 52, 53], Blueberry - Orange\n",
      "0.1555, cols = [44, 32, 10, 56, 21, 1, 11, 12], Strawberry - Blueberry\n",
      "0.1542, cols = [58, 57, 42, 46, 5, 1, 11, 12], Mango - Blueberry\n",
      "0.1483, cols = [12, 11, 1, 21, 51, 58, 50, 57], Blueberry - Lemon\n",
      "0.1474, cols = [44, 31, 10, 7, 51, 58, 50, 57], Strawberry - Lemon\n",
      "0.1456, cols = [52, 42, 49, 55, 14, 1, 11, 12], Cantaloupe - Blueberry\n",
      "0.1456, cols = [12, 11, 1, 21, 55, 56, 34, 33], Blueberry - Avocado\n",
      "0.1456, cols = [33, 34, 48, 36, 39, 40, 52, 53], Avocado - Orange\n",
      "0.1435, cols = [12, 11, 1, 14, 57, 55, 34, 47], Blueberry - Lime\n",
      "0.132, cols = [44, 48, 10, 55, 22, 1, 11, 12], Watermelon - Blueberry\n",
      "0.1315, cols = [58, 53, 50, 49, 8, 28, 31, 44], Mango - Strawberry\n",
      "0.1307, cols = [44, 32, 9, 8, 51, 58, 50, 57], Watermelon - Lemon\n",
      "0.1251, cols = [58, 53, 50, 49, 36, 10, 48, 44], Mango - Watermelon\n",
      "0.1251, cols = [33, 48, 10, 36, 49, 40, 52, 53], Watermelon - Orange\n",
      "0.1245, cols = [43, 51, 9, 8, 21, 1, 11, 12], Grapefruit - Blueberry\n",
      "0.1241, cols = [58, 53, 41, 43, 36, 37, 47, 33], Mango - Avocado\n",
      "0.1194, cols = [46, 34, 39, 37, 5, 19, 11, 12], Honeydew - Blueberry\n",
      "0.1178, cols = [44, 28, 30, 42, 38, 58, 55, 57], Raspberry - Lemon\n",
      "0.1158, cols = [44, 32, 10, 16, 40, 39, 50, 51], Watermelon - Cantaloupe\n",
      "0.1158, cols = [58, 50, 39, 46, 8, 28, 32, 44], Cantaloupe - Strawberry\n"
     ]
    }
   ],
   "source": [
    "# print the top 20 fruit pairs (sorted by value of t) along with their color choices\n",
    "for i in ix[1:20]\n",
    "    println( round(tvals[i],digits=4), \", cols = \",  uvals[i][3], \", \", Fruits[uvals[i][1]], \" - \", Fruits[uvals[i][2]] )\n",
    "end"
   ]
  },
  {
   "cell_type": "code",
   "execution_count": 31,
   "metadata": {},
   "outputs": [
    {
     "name": "stdout",
     "output_type": "stream",
     "text": [
      "ratings for Blueberry - Orange:\n"
     ]
    },
    {
     "data": {
      "text/plain": [
       "2×8 Array{Float64,2}:\n",
       " 0.862  0.697  0.512  0.278  0.107  0.089  0.087  0.075\n",
       " 0.096  0.093  0.097  0.092  0.282  0.445  0.648  0.859"
      ]
     },
     "execution_count": 31,
     "metadata": {},
     "output_type": "execute_result"
    }
   ],
   "source": [
    "# print the ratings obtained for a particular choice from the above list\n",
    "choice = 1\n",
    "\n",
    "i = ix[choice]\n",
    "f = [uvals[i][j] for j=1:2]  # fruit indices\n",
    "c = uvals[i][3]    # color indices\n",
    "println(\"ratings for $(Fruits[f[1]]) - $(Fruits[f[2]]):\")\n",
    "round.(r[f,c],digits=3)"
   ]
  },
  {
   "cell_type": "code",
   "execution_count": null,
   "metadata": {},
   "outputs": [],
   "source": []
  }
 ],
 "metadata": {
  "kernelspec": {
   "display_name": "Julia 1.0.1",
   "language": "julia",
   "name": "julia-1.0"
  },
  "language_info": {
   "file_extension": ".jl",
   "mimetype": "application/julia",
   "name": "julia",
   "version": "1.0.1"
  }
 },
 "nbformat": 4,
 "nbformat_minor": 2
}
