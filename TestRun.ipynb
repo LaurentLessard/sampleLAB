{
 "cells": [
  {
   "cell_type": "code",
   "execution_count": 2,
   "metadata": {},
   "outputs": [],
   "source": [
    "using MATLAB\n",
    "using PyPlot"
   ]
  },
  {
   "cell_type": "code",
   "execution_count": 3,
   "metadata": {},
   "outputs": [],
   "source": [
    "delta = 10 #linspace(10,40,10);\n",
    "n = zeros(length(delta),1);"
   ]
  },
  {
   "cell_type": "code",
   "execution_count": 4,
   "metadata": {
    "scrolled": false
   },
   "outputs": [
    {
     "name": "stdout",
     "output_type": "stream",
     "text": [
      "Warning: Ignoring extra legend entries.\n",
      "> In legend>set_children_and_strings (line 674)\n",
      "  In legend>make_legend (line 346)\n",
      "  In legend (line 294)\n",
      "  In sampleLAB (line 26)\n"
     ]
    }
   ],
   "source": [
    "for d = 1:length(delta)\n",
    "   lab = mxcall(:sampleLAB,1,delta[d])\n",
    "   n[d] = length(coord[:,1]);\n",
    "end"
   ]
  },
  {
   "cell_type": "code",
   "execution_count": null,
   "metadata": {},
   "outputs": [],
   "source": [
    "mxcall(:sampleLAB,1,20)"
   ]
  },
  {
   "cell_type": "code",
   "execution_count": null,
   "metadata": {},
   "outputs": [],
   "source": [
    "plot(delta,n)\n",
    "title(\"Tradeoff between number of colors obtained vs delta\")"
   ]
  },
  {
   "cell_type": "code",
   "execution_count": null,
   "metadata": {},
   "outputs": [],
   "source": []
  }
 ],
 "metadata": {
  "kernelspec": {
   "display_name": "Julia 0.6.2",
   "language": "julia",
   "name": "julia-0.6"
  },
  "language_info": {
   "file_extension": ".jl",
   "mimetype": "application/julia",
   "name": "julia",
   "version": "0.6.2"
  }
 },
 "nbformat": 4,
 "nbformat_minor": 2
}
